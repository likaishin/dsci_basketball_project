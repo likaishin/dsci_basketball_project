{
 "cells": [
  {
   "cell_type": "code",
   "execution_count": 1,
   "id": "3bc3cb90-c574-4eef-9832-9a529d19c942",
   "metadata": {
    "tags": []
   },
   "outputs": [
    {
     "name": "stderr",
     "output_type": "stream",
     "text": [
      "── \u001b[1mAttaching packages\u001b[22m ─────────────────────────────────────── tidyverse 1.3.2 ──\n",
      "\u001b[32m✔\u001b[39m \u001b[34mggplot2\u001b[39m 3.4.2     \u001b[32m✔\u001b[39m \u001b[34mpurrr  \u001b[39m 1.0.1\n",
      "\u001b[32m✔\u001b[39m \u001b[34mtibble \u001b[39m 3.2.1     \u001b[32m✔\u001b[39m \u001b[34mdplyr  \u001b[39m 1.1.1\n",
      "\u001b[32m✔\u001b[39m \u001b[34mtidyr  \u001b[39m 1.3.0     \u001b[32m✔\u001b[39m \u001b[34mstringr\u001b[39m 1.5.0\n",
      "\u001b[32m✔\u001b[39m \u001b[34mreadr  \u001b[39m 2.1.3     \u001b[32m✔\u001b[39m \u001b[34mforcats\u001b[39m 0.5.2\n",
      "── \u001b[1mConflicts\u001b[22m ────────────────────────────────────────── tidyverse_conflicts() ──\n",
      "\u001b[31m✖\u001b[39m \u001b[34mdplyr\u001b[39m::\u001b[32mfilter()\u001b[39m masks \u001b[34mstats\u001b[39m::filter()\n",
      "\u001b[31m✖\u001b[39m \u001b[34mdplyr\u001b[39m::\u001b[32mlag()\u001b[39m    masks \u001b[34mstats\u001b[39m::lag()\n",
      "── \u001b[1mAttaching packages\u001b[22m ────────────────────────────────────── tidymodels 1.0.0 ──\n",
      "\n",
      "\u001b[32m✔\u001b[39m \u001b[34mbroom       \u001b[39m 1.0.2     \u001b[32m✔\u001b[39m \u001b[34mrsample     \u001b[39m 1.1.1\n",
      "\u001b[32m✔\u001b[39m \u001b[34mdials       \u001b[39m 1.1.0     \u001b[32m✔\u001b[39m \u001b[34mtune        \u001b[39m 1.0.1\n",
      "\u001b[32m✔\u001b[39m \u001b[34minfer       \u001b[39m 1.0.4     \u001b[32m✔\u001b[39m \u001b[34mworkflows   \u001b[39m 1.1.2\n",
      "\u001b[32m✔\u001b[39m \u001b[34mmodeldata   \u001b[39m 1.0.1     \u001b[32m✔\u001b[39m \u001b[34mworkflowsets\u001b[39m 1.0.0\n",
      "\u001b[32m✔\u001b[39m \u001b[34mparsnip     \u001b[39m 1.0.3     \u001b[32m✔\u001b[39m \u001b[34myardstick   \u001b[39m 1.1.0\n",
      "\u001b[32m✔\u001b[39m \u001b[34mrecipes     \u001b[39m 1.0.4     \n",
      "\n",
      "── \u001b[1mConflicts\u001b[22m ───────────────────────────────────────── tidymodels_conflicts() ──\n",
      "\u001b[31m✖\u001b[39m \u001b[34mscales\u001b[39m::\u001b[32mdiscard()\u001b[39m masks \u001b[34mpurrr\u001b[39m::discard()\n",
      "\u001b[31m✖\u001b[39m \u001b[34mdplyr\u001b[39m::\u001b[32mfilter()\u001b[39m   masks \u001b[34mstats\u001b[39m::filter()\n",
      "\u001b[31m✖\u001b[39m \u001b[34mrecipes\u001b[39m::\u001b[32mfixed()\u001b[39m  masks \u001b[34mstringr\u001b[39m::fixed()\n",
      "\u001b[31m✖\u001b[39m \u001b[34mdplyr\u001b[39m::\u001b[32mlag()\u001b[39m      masks \u001b[34mstats\u001b[39m::lag()\n",
      "\u001b[31m✖\u001b[39m \u001b[34myardstick\u001b[39m::\u001b[32mspec()\u001b[39m masks \u001b[34mreadr\u001b[39m::spec()\n",
      "\u001b[31m✖\u001b[39m \u001b[34mrecipes\u001b[39m::\u001b[32mstep()\u001b[39m   masks \u001b[34mstats\u001b[39m::step()\n",
      "\u001b[34m•\u001b[39m Dig deeper into tidy modeling with R at \u001b[32mhttps://www.tmwr.org\u001b[39m\n",
      "\n",
      "Warning message in file(filename, \"r\", encoding = encoding):\n",
      "“cannot open file 'tests.R': No such file or directory”\n"
     ]
    },
    {
     "ename": "ERROR",
     "evalue": "Error in file(filename, \"r\", encoding = encoding): cannot open the connection\n",
     "output_type": "error",
     "traceback": [
      "Error in file(filename, \"r\", encoding = encoding): cannot open the connection\nTraceback:\n",
      "1. source(\"tests.R\")",
      "2. file(filename, \"r\", encoding = encoding)"
     ]
    }
   ],
   "source": [
    "library(repr)\n",
    "library(tidyverse)\n",
    "library(tidymodels)\n",
    "options(repr.matrix.max.rows = 10)\n",
    "source('tests.R')\n",
    "source(\"cleanup.R\")"
   ]
  },
  {
   "cell_type": "code",
   "execution_count": 4,
   "id": "b6b30687-118a-4130-8f64-2a00a721fb65",
   "metadata": {
    "tags": []
   },
   "outputs": [
    {
     "name": "stderr",
     "output_type": "stream",
     "text": [
      "\u001b[1mRows: \u001b[22m\u001b[34m679\u001b[39m \u001b[1mColumns: \u001b[22m\u001b[34m30\u001b[39m\n",
      "\u001b[36m──\u001b[39m \u001b[1mColumn specification\u001b[22m \u001b[36m────────────────────────────────────────────────────────\u001b[39m\n",
      "\u001b[1mDelimiter:\u001b[22m \";\"\n",
      "\u001b[31mchr\u001b[39m  (3): Player, Pos, Tm\n",
      "\u001b[32mdbl\u001b[39m (27): Rk, Age, G, GS, MP, FG, FGA, FG%, 3P, 3PA, 3P%, 2P, 2PA, 2P%, eFG%...\n",
      "\n",
      "\u001b[36mℹ\u001b[39m Use `spec()` to retrieve the full column specification for this data.\n",
      "\u001b[36mℹ\u001b[39m Specify the column types or set `show_col_types = FALSE` to quiet this message.\n"
     ]
    },
    {
     "data": {
      "text/html": [
       "<table class=\"dataframe\">\n",
       "<caption>A spec_tbl_df: 679 × 30</caption>\n",
       "<thead>\n",
       "\t<tr><th scope=col>Rk</th><th scope=col>Player</th><th scope=col>Pos</th><th scope=col>Age</th><th scope=col>Tm</th><th scope=col>G</th><th scope=col>GS</th><th scope=col>MP</th><th scope=col>FG</th><th scope=col>FGA</th><th scope=col>⋯</th><th scope=col>FT%</th><th scope=col>ORB</th><th scope=col>DRB</th><th scope=col>TRB</th><th scope=col>AST</th><th scope=col>STL</th><th scope=col>BLK</th><th scope=col>TOV</th><th scope=col>PF</th><th scope=col>PTS</th></tr>\n",
       "\t<tr><th scope=col>&lt;dbl&gt;</th><th scope=col>&lt;chr&gt;</th><th scope=col>&lt;chr&gt;</th><th scope=col>&lt;dbl&gt;</th><th scope=col>&lt;chr&gt;</th><th scope=col>&lt;dbl&gt;</th><th scope=col>&lt;dbl&gt;</th><th scope=col>&lt;dbl&gt;</th><th scope=col>&lt;dbl&gt;</th><th scope=col>&lt;dbl&gt;</th><th scope=col>⋯</th><th scope=col>&lt;dbl&gt;</th><th scope=col>&lt;dbl&gt;</th><th scope=col>&lt;dbl&gt;</th><th scope=col>&lt;dbl&gt;</th><th scope=col>&lt;dbl&gt;</th><th scope=col>&lt;dbl&gt;</th><th scope=col>&lt;dbl&gt;</th><th scope=col>&lt;dbl&gt;</th><th scope=col>&lt;dbl&gt;</th><th scope=col>&lt;dbl&gt;</th></tr>\n",
       "</thead>\n",
       "<tbody>\n",
       "\t<tr><td>1</td><td>Precious Achiuwa</td><td>C </td><td>23</td><td>TOR</td><td>55</td><td>12</td><td>20.7</td><td>3.6</td><td> 7.3</td><td>⋯</td><td>0.702</td><td>1.8</td><td>4.1</td><td> 6.0</td><td>0.9</td><td>0.6</td><td>0.5</td><td>1.1</td><td>1.9</td><td> 9.2</td></tr>\n",
       "\t<tr><td>2</td><td>Steven Adams    </td><td>C </td><td>29</td><td>MEM</td><td>42</td><td>42</td><td>27.0</td><td>3.7</td><td> 6.3</td><td>⋯</td><td>0.364</td><td>5.1</td><td>6.5</td><td>11.5</td><td>2.3</td><td>0.9</td><td>1.1</td><td>1.9</td><td>2.3</td><td> 8.6</td></tr>\n",
       "\t<tr><td>3</td><td>Bam Adebayo     </td><td>C </td><td>25</td><td>MIA</td><td>75</td><td>75</td><td>34.6</td><td>8.0</td><td>14.9</td><td>⋯</td><td>0.806</td><td>2.5</td><td>6.7</td><td> 9.2</td><td>3.2</td><td>1.2</td><td>0.8</td><td>2.5</td><td>2.8</td><td>20.4</td></tr>\n",
       "\t<tr><td>4</td><td>Ochai Agbaji    </td><td>SG</td><td>22</td><td>UTA</td><td>59</td><td>22</td><td>20.5</td><td>2.8</td><td> 6.5</td><td>⋯</td><td>0.812</td><td>0.7</td><td>1.3</td><td> 2.1</td><td>1.1</td><td>0.3</td><td>0.3</td><td>0.7</td><td>1.7</td><td> 7.9</td></tr>\n",
       "\t<tr><td>5</td><td>Santi Aldama    </td><td>PF</td><td>22</td><td>MEM</td><td>77</td><td>20</td><td>21.8</td><td>3.2</td><td> 6.8</td><td>⋯</td><td>0.750</td><td>1.1</td><td>3.7</td><td> 4.8</td><td>1.3</td><td>0.6</td><td>0.6</td><td>0.8</td><td>1.9</td><td> 9.0</td></tr>\n",
       "\t<tr><td>⋮</td><td>⋮</td><td>⋮</td><td>⋮</td><td>⋮</td><td>⋮</td><td>⋮</td><td>⋮</td><td>⋮</td><td>⋮</td><td>⋱</td><td>⋮</td><td>⋮</td><td>⋮</td><td>⋮</td><td>⋮</td><td>⋮</td><td>⋮</td><td>⋮</td><td>⋮</td><td>⋮</td></tr>\n",
       "\t<tr><td>535</td><td>Thaddeus Young</td><td>PF</td><td>34</td><td>TOR</td><td>54</td><td> 9</td><td>14.7</td><td>2.0</td><td> 3.7</td><td>⋯</td><td>0.692</td><td>1.3</td><td>1.8</td><td>3.1</td><td> 1.4</td><td>1.0</td><td>0.1</td><td>0.8</td><td>1.6</td><td> 4.4</td></tr>\n",
       "\t<tr><td>536</td><td>Trae Young    </td><td>PG</td><td>24</td><td>ATL</td><td>73</td><td>73</td><td>34.8</td><td>8.2</td><td>19.0</td><td>⋯</td><td>0.886</td><td>0.8</td><td>2.2</td><td>3.0</td><td>10.2</td><td>1.1</td><td>0.1</td><td>4.1</td><td>1.4</td><td>26.2</td></tr>\n",
       "\t<tr><td>537</td><td>Omer Yurtseven</td><td>C </td><td>24</td><td>MIA</td><td> 9</td><td> 0</td><td> 9.2</td><td>1.8</td><td> 3.0</td><td>⋯</td><td>0.833</td><td>0.9</td><td>1.7</td><td>2.6</td><td> 0.2</td><td>0.2</td><td>0.2</td><td>0.4</td><td>1.8</td><td> 4.4</td></tr>\n",
       "\t<tr><td>538</td><td>Cody Zeller   </td><td>C </td><td>30</td><td>MIA</td><td>15</td><td> 2</td><td>14.5</td><td>2.5</td><td> 3.9</td><td>⋯</td><td>0.686</td><td>1.7</td><td>2.6</td><td>4.3</td><td> 0.7</td><td>0.2</td><td>0.3</td><td>0.9</td><td>2.2</td><td> 6.5</td></tr>\n",
       "\t<tr><td>539</td><td>Ivica Zubac   </td><td>C </td><td>25</td><td>LAC</td><td>76</td><td>76</td><td>28.6</td><td>4.3</td><td> 6.8</td><td>⋯</td><td>0.697</td><td>3.1</td><td>6.8</td><td>9.9</td><td> 1.0</td><td>0.4</td><td>1.3</td><td>1.5</td><td>2.9</td><td>10.8</td></tr>\n",
       "</tbody>\n",
       "</table>\n"
      ],
      "text/latex": [
       "A spec\\_tbl\\_df: 679 × 30\n",
       "\\begin{tabular}{lllllllllllllllllllll}\n",
       " Rk & Player & Pos & Age & Tm & G & GS & MP & FG & FGA & ⋯ & FT\\% & ORB & DRB & TRB & AST & STL & BLK & TOV & PF & PTS\\\\\n",
       " <dbl> & <chr> & <chr> & <dbl> & <chr> & <dbl> & <dbl> & <dbl> & <dbl> & <dbl> & ⋯ & <dbl> & <dbl> & <dbl> & <dbl> & <dbl> & <dbl> & <dbl> & <dbl> & <dbl> & <dbl>\\\\\n",
       "\\hline\n",
       "\t 1 & Precious Achiuwa & C  & 23 & TOR & 55 & 12 & 20.7 & 3.6 &  7.3 & ⋯ & 0.702 & 1.8 & 4.1 &  6.0 & 0.9 & 0.6 & 0.5 & 1.1 & 1.9 &  9.2\\\\\n",
       "\t 2 & Steven Adams     & C  & 29 & MEM & 42 & 42 & 27.0 & 3.7 &  6.3 & ⋯ & 0.364 & 5.1 & 6.5 & 11.5 & 2.3 & 0.9 & 1.1 & 1.9 & 2.3 &  8.6\\\\\n",
       "\t 3 & Bam Adebayo      & C  & 25 & MIA & 75 & 75 & 34.6 & 8.0 & 14.9 & ⋯ & 0.806 & 2.5 & 6.7 &  9.2 & 3.2 & 1.2 & 0.8 & 2.5 & 2.8 & 20.4\\\\\n",
       "\t 4 & Ochai Agbaji     & SG & 22 & UTA & 59 & 22 & 20.5 & 2.8 &  6.5 & ⋯ & 0.812 & 0.7 & 1.3 &  2.1 & 1.1 & 0.3 & 0.3 & 0.7 & 1.7 &  7.9\\\\\n",
       "\t 5 & Santi Aldama     & PF & 22 & MEM & 77 & 20 & 21.8 & 3.2 &  6.8 & ⋯ & 0.750 & 1.1 & 3.7 &  4.8 & 1.3 & 0.6 & 0.6 & 0.8 & 1.9 &  9.0\\\\\n",
       "\t ⋮ & ⋮ & ⋮ & ⋮ & ⋮ & ⋮ & ⋮ & ⋮ & ⋮ & ⋮ & ⋱ & ⋮ & ⋮ & ⋮ & ⋮ & ⋮ & ⋮ & ⋮ & ⋮ & ⋮ & ⋮\\\\\n",
       "\t 535 & Thaddeus Young & PF & 34 & TOR & 54 &  9 & 14.7 & 2.0 &  3.7 & ⋯ & 0.692 & 1.3 & 1.8 & 3.1 &  1.4 & 1.0 & 0.1 & 0.8 & 1.6 &  4.4\\\\\n",
       "\t 536 & Trae Young     & PG & 24 & ATL & 73 & 73 & 34.8 & 8.2 & 19.0 & ⋯ & 0.886 & 0.8 & 2.2 & 3.0 & 10.2 & 1.1 & 0.1 & 4.1 & 1.4 & 26.2\\\\\n",
       "\t 537 & Omer Yurtseven & C  & 24 & MIA &  9 &  0 &  9.2 & 1.8 &  3.0 & ⋯ & 0.833 & 0.9 & 1.7 & 2.6 &  0.2 & 0.2 & 0.2 & 0.4 & 1.8 &  4.4\\\\\n",
       "\t 538 & Cody Zeller    & C  & 30 & MIA & 15 &  2 & 14.5 & 2.5 &  3.9 & ⋯ & 0.686 & 1.7 & 2.6 & 4.3 &  0.7 & 0.2 & 0.3 & 0.9 & 2.2 &  6.5\\\\\n",
       "\t 539 & Ivica Zubac    & C  & 25 & LAC & 76 & 76 & 28.6 & 4.3 &  6.8 & ⋯ & 0.697 & 3.1 & 6.8 & 9.9 &  1.0 & 0.4 & 1.3 & 1.5 & 2.9 & 10.8\\\\\n",
       "\\end{tabular}\n"
      ],
      "text/markdown": [
       "\n",
       "A spec_tbl_df: 679 × 30\n",
       "\n",
       "| Rk &lt;dbl&gt; | Player &lt;chr&gt; | Pos &lt;chr&gt; | Age &lt;dbl&gt; | Tm &lt;chr&gt; | G &lt;dbl&gt; | GS &lt;dbl&gt; | MP &lt;dbl&gt; | FG &lt;dbl&gt; | FGA &lt;dbl&gt; | ⋯ ⋯ | FT% &lt;dbl&gt; | ORB &lt;dbl&gt; | DRB &lt;dbl&gt; | TRB &lt;dbl&gt; | AST &lt;dbl&gt; | STL &lt;dbl&gt; | BLK &lt;dbl&gt; | TOV &lt;dbl&gt; | PF &lt;dbl&gt; | PTS &lt;dbl&gt; |\n",
       "|---|---|---|---|---|---|---|---|---|---|---|---|---|---|---|---|---|---|---|---|---|\n",
       "| 1 | Precious Achiuwa | C  | 23 | TOR | 55 | 12 | 20.7 | 3.6 |  7.3 | ⋯ | 0.702 | 1.8 | 4.1 |  6.0 | 0.9 | 0.6 | 0.5 | 1.1 | 1.9 |  9.2 |\n",
       "| 2 | Steven Adams     | C  | 29 | MEM | 42 | 42 | 27.0 | 3.7 |  6.3 | ⋯ | 0.364 | 5.1 | 6.5 | 11.5 | 2.3 | 0.9 | 1.1 | 1.9 | 2.3 |  8.6 |\n",
       "| 3 | Bam Adebayo      | C  | 25 | MIA | 75 | 75 | 34.6 | 8.0 | 14.9 | ⋯ | 0.806 | 2.5 | 6.7 |  9.2 | 3.2 | 1.2 | 0.8 | 2.5 | 2.8 | 20.4 |\n",
       "| 4 | Ochai Agbaji     | SG | 22 | UTA | 59 | 22 | 20.5 | 2.8 |  6.5 | ⋯ | 0.812 | 0.7 | 1.3 |  2.1 | 1.1 | 0.3 | 0.3 | 0.7 | 1.7 |  7.9 |\n",
       "| 5 | Santi Aldama     | PF | 22 | MEM | 77 | 20 | 21.8 | 3.2 |  6.8 | ⋯ | 0.750 | 1.1 | 3.7 |  4.8 | 1.3 | 0.6 | 0.6 | 0.8 | 1.9 |  9.0 |\n",
       "| ⋮ | ⋮ | ⋮ | ⋮ | ⋮ | ⋮ | ⋮ | ⋮ | ⋮ | ⋮ | ⋱ | ⋮ | ⋮ | ⋮ | ⋮ | ⋮ | ⋮ | ⋮ | ⋮ | ⋮ | ⋮ |\n",
       "| 535 | Thaddeus Young | PF | 34 | TOR | 54 |  9 | 14.7 | 2.0 |  3.7 | ⋯ | 0.692 | 1.3 | 1.8 | 3.1 |  1.4 | 1.0 | 0.1 | 0.8 | 1.6 |  4.4 |\n",
       "| 536 | Trae Young     | PG | 24 | ATL | 73 | 73 | 34.8 | 8.2 | 19.0 | ⋯ | 0.886 | 0.8 | 2.2 | 3.0 | 10.2 | 1.1 | 0.1 | 4.1 | 1.4 | 26.2 |\n",
       "| 537 | Omer Yurtseven | C  | 24 | MIA |  9 |  0 |  9.2 | 1.8 |  3.0 | ⋯ | 0.833 | 0.9 | 1.7 | 2.6 |  0.2 | 0.2 | 0.2 | 0.4 | 1.8 |  4.4 |\n",
       "| 538 | Cody Zeller    | C  | 30 | MIA | 15 |  2 | 14.5 | 2.5 |  3.9 | ⋯ | 0.686 | 1.7 | 2.6 | 4.3 |  0.7 | 0.2 | 0.3 | 0.9 | 2.2 |  6.5 |\n",
       "| 539 | Ivica Zubac    | C  | 25 | LAC | 76 | 76 | 28.6 | 4.3 |  6.8 | ⋯ | 0.697 | 3.1 | 6.8 | 9.9 |  1.0 | 0.4 | 1.3 | 1.5 | 2.9 | 10.8 |\n",
       "\n"
      ],
      "text/plain": [
       "    Rk  Player           Pos Age Tm  G  GS MP   FG  FGA  ⋯ FT%   ORB DRB TRB \n",
       "1   1   Precious Achiuwa C   23  TOR 55 12 20.7 3.6  7.3 ⋯ 0.702 1.8 4.1  6.0\n",
       "2   2   Steven Adams     C   29  MEM 42 42 27.0 3.7  6.3 ⋯ 0.364 5.1 6.5 11.5\n",
       "3   3   Bam Adebayo      C   25  MIA 75 75 34.6 8.0 14.9 ⋯ 0.806 2.5 6.7  9.2\n",
       "4   4   Ochai Agbaji     SG  22  UTA 59 22 20.5 2.8  6.5 ⋯ 0.812 0.7 1.3  2.1\n",
       "5   5   Santi Aldama     PF  22  MEM 77 20 21.8 3.2  6.8 ⋯ 0.750 1.1 3.7  4.8\n",
       "⋮   ⋮   ⋮                ⋮   ⋮   ⋮   ⋮  ⋮  ⋮    ⋮   ⋮    ⋱ ⋮     ⋮   ⋮   ⋮   \n",
       "675 535 Thaddeus Young   PF  34  TOR 54  9 14.7 2.0  3.7 ⋯ 0.692 1.3 1.8 3.1 \n",
       "676 536 Trae Young       PG  24  ATL 73 73 34.8 8.2 19.0 ⋯ 0.886 0.8 2.2 3.0 \n",
       "677 537 Omer Yurtseven   C   24  MIA  9  0  9.2 1.8  3.0 ⋯ 0.833 0.9 1.7 2.6 \n",
       "678 538 Cody Zeller      C   30  MIA 15  2 14.5 2.5  3.9 ⋯ 0.686 1.7 2.6 4.3 \n",
       "679 539 Ivica Zubac      C   25  LAC 76 76 28.6 4.3  6.8 ⋯ 0.697 3.1 6.8 9.9 \n",
       "    AST  STL BLK TOV PF  PTS \n",
       "1   0.9  0.6 0.5 1.1 1.9  9.2\n",
       "2   2.3  0.9 1.1 1.9 2.3  8.6\n",
       "3   3.2  1.2 0.8 2.5 2.8 20.4\n",
       "4   1.1  0.3 0.3 0.7 1.7  7.9\n",
       "5   1.3  0.6 0.6 0.8 1.9  9.0\n",
       "⋮   ⋮    ⋮   ⋮   ⋮   ⋮   ⋮   \n",
       "675  1.4 1.0 0.1 0.8 1.6  4.4\n",
       "676 10.2 1.1 0.1 4.1 1.4 26.2\n",
       "677  0.2 0.2 0.2 0.4 1.8  4.4\n",
       "678  0.7 0.2 0.3 0.9 2.2  6.5\n",
       "679  1.0 0.4 1.3 1.5 2.9 10.8"
      ]
     },
     "metadata": {},
     "output_type": "display_data"
    }
   ],
   "source": [
    "read_delim(\"NBA_Player_Stats_Regular.csv\", delim = \";\")"
   ]
  },
  {
   "cell_type": "code",
   "execution_count": null,
   "id": "594ca252-272a-4b36-82d7-e25caeb4ba65",
   "metadata": {},
   "outputs": [],
   "source": []
  }
 ],
 "metadata": {
  "kernelspec": {
   "display_name": "R",
   "language": "R",
   "name": "ir"
  },
  "language_info": {
   "codemirror_mode": "r",
   "file_extension": ".r",
   "mimetype": "text/x-r-source",
   "name": "R",
   "pygments_lexer": "r",
   "version": "4.2.2"
  }
 },
 "nbformat": 4,
 "nbformat_minor": 5
}
